{
 "cells": [
  {
   "cell_type": "code",
   "execution_count": 1,
   "id": "876bfbaa",
   "metadata": {},
   "outputs": [
    {
     "name": "stdout",
     "output_type": "stream",
     "text": [
      "Collecting gTTs\n",
      "  Obtaining dependency information for gTTs from https://files.pythonhosted.org/packages/e3/6c/8b8b1fdcaee7e268536f1bb00183a5894627726b54a9ddc6fc9909888447/gTTS-2.5.4-py3-none-any.whl.metadata\n",
      "  Downloading gTTS-2.5.4-py3-none-any.whl.metadata (4.1 kB)\n",
      "Requirement already satisfied: requests<3,>=2.27 in c:\\users\\komali\\anaconda3\\lib\\site-packages (from gTTs) (2.31.0)\n",
      "Requirement already satisfied: click<8.2,>=7.1 in c:\\users\\komali\\anaconda3\\lib\\site-packages (from gTTs) (8.0.4)\n",
      "Requirement already satisfied: colorama in c:\\users\\komali\\anaconda3\\lib\\site-packages (from click<8.2,>=7.1->gTTs) (0.4.6)\n",
      "Requirement already satisfied: charset-normalizer<4,>=2 in c:\\users\\komali\\anaconda3\\lib\\site-packages (from requests<3,>=2.27->gTTs) (2.0.4)\n",
      "Requirement already satisfied: idna<4,>=2.5 in c:\\users\\komali\\anaconda3\\lib\\site-packages (from requests<3,>=2.27->gTTs) (3.4)\n",
      "Requirement already satisfied: urllib3<3,>=1.21.1 in c:\\users\\komali\\anaconda3\\lib\\site-packages (from requests<3,>=2.27->gTTs) (1.26.16)\n",
      "Requirement already satisfied: certifi>=2017.4.17 in c:\\users\\komali\\anaconda3\\lib\\site-packages (from requests<3,>=2.27->gTTs) (2024.12.14)\n",
      "Downloading gTTS-2.5.4-py3-none-any.whl (29 kB)\n",
      "Installing collected packages: gTTs\n",
      "Successfully installed gTTs-2.5.4\n"
     ]
    }
   ],
   "source": [
    "!pip install gTTs"
   ]
  },
  {
   "cell_type": "code",
   "execution_count": 5,
   "id": "5ad7b79c",
   "metadata": {},
   "outputs": [],
   "source": [
    "from gtts import gTTS"
   ]
  },
  {
   "cell_type": "code",
   "execution_count": 6,
   "id": "143cf0c1",
   "metadata": {},
   "outputs": [],
   "source": [
    "\n",
    "convert = gTTS(text='I like this NLP. How about dude!', lang=\"en\", slow=False)\n",
    "\n",
    "convert.save(\"audio.mp3\")"
   ]
  },
  {
   "cell_type": "code",
   "execution_count": 7,
   "id": "99cca203",
   "metadata": {},
   "outputs": [
    {
     "name": "stdout",
     "output_type": "stream",
     "text": [
      "Collecting pyttsx3\n",
      "  Obtaining dependency information for pyttsx3 from https://files.pythonhosted.org/packages/94/df/e1584757c736c4fba09a3fb4f22fe625cc3367b06c6ece221e4b8c1e3023/pyttsx3-2.98-py3-none-any.whl.metadata\n",
      "  Downloading pyttsx3-2.98-py3-none-any.whl.metadata (3.8 kB)\n",
      "Collecting comtypes (from pyttsx3)\n",
      "  Obtaining dependency information for comtypes from https://files.pythonhosted.org/packages/4c/44/72009bb0a0d8286f6408c9cb70552350e21e9c280bfa1ef30784b30dfc0f/comtypes-1.4.10-py3-none-any.whl.metadata\n",
      "  Downloading comtypes-1.4.10-py3-none-any.whl.metadata (7.2 kB)\n",
      "Collecting pypiwin32 (from pyttsx3)\n",
      "  Obtaining dependency information for pypiwin32 from https://files.pythonhosted.org/packages/d0/1b/2f292bbd742e369a100c91faa0483172cd91a1a422a6692055ac920946c5/pypiwin32-223-py3-none-any.whl.metadata\n",
      "  Downloading pypiwin32-223-py3-none-any.whl.metadata (236 bytes)\n",
      "Requirement already satisfied: pywin32 in c:\\users\\komali\\anaconda3\\lib\\site-packages (from pyttsx3) (305.1)\n",
      "Downloading pyttsx3-2.98-py3-none-any.whl (34 kB)\n",
      "Downloading comtypes-1.4.10-py3-none-any.whl (241 kB)\n",
      "   ---------------------------------------- 0.0/241.5 kB ? eta -:--:--\n",
      "   --------------- ------------------------ 92.2/241.5 kB 1.7 MB/s eta 0:00:01\n",
      "   ---------------------------------------- 241.5/241.5 kB 2.9 MB/s eta 0:00:00\n",
      "Downloading pypiwin32-223-py3-none-any.whl (1.7 kB)\n",
      "Installing collected packages: pypiwin32, comtypes, pyttsx3\n",
      "Successfully installed comtypes-1.4.10 pypiwin32-223 pyttsx3-2.98\n"
     ]
    }
   ],
   "source": [
    "!pip install pyttsx3"
   ]
  },
  {
   "cell_type": "code",
   "execution_count": 8,
   "id": "a55d2cfc",
   "metadata": {},
   "outputs": [
    {
     "name": "stdout",
     "output_type": "stream",
     "text": [
      "Requirement already satisfied: pyttsx3 in c:\\users\\komali\\anaconda3\\lib\\site-packages (2.98)\n",
      "Requirement already satisfied: comtypes in c:\\users\\komali\\anaconda3\\lib\\site-packages (from pyttsx3) (1.4.10)\n",
      "Requirement already satisfied: pypiwin32 in c:\\users\\komali\\anaconda3\\lib\\site-packages (from pyttsx3) (223)\n",
      "Requirement already satisfied: pywin32 in c:\\users\\komali\\anaconda3\\lib\\site-packages (from pyttsx3) (305.1)\n"
     ]
    }
   ],
   "source": [
    "!pip3 install pyttsx3"
   ]
  },
  {
   "cell_type": "code",
   "execution_count": 9,
   "id": "2cfc5e44",
   "metadata": {},
   "outputs": [],
   "source": [
    "#pip3 install pyttsx3\n",
    "#apt-get install alsa-utils\n",
    "import pyttsx3, time \n",
    "engine = pyttsx3.init() \n",
    "engine.say(\"Hi, I am text to speach\") \n",
    "engine.runAndWait()"
   ]
  },
  {
   "cell_type": "code",
   "execution_count": 10,
   "id": "2b723dd9",
   "metadata": {},
   "outputs": [],
   "source": [
    "text=['This is introduction to NLP','It is likely to be useful, to people ',\\\n",
    "      'Machine learning is the new electrcity','There would be less hype around AI and more action going forward',\\\n",
    "      'python is the best tool!','R is good langauage','I like this book',\\\n",
    "      'I want more books like this']"
   ]
  },
  {
   "cell_type": "code",
   "execution_count": 12,
   "id": "af75f23f",
   "metadata": {},
   "outputs": [],
   "source": [
    "engine = pyttsx3.init()\n",
    "engine.say(text)\n",
    "engine.runAndWait()"
   ]
  },
  {
   "cell_type": "code",
   "execution_count": 19,
   "id": "a3aa3bb4",
   "metadata": {},
   "outputs": [
    {
     "name": "stdout",
     "output_type": "stream",
     "text": [
      "150\n",
      "1.0\n"
     ]
    },
    {
     "ename": "RuntimeError",
     "evalue": "run loop already started",
     "output_type": "error",
     "traceback": [
      "\u001b[1;31m---------------------------------------------------------------------------\u001b[0m",
      "\u001b[1;31mRuntimeError\u001b[0m                              Traceback (most recent call last)",
      "Cell \u001b[1;32mIn[19], line 24\u001b[0m\n\u001b[0;32m     22\u001b[0m engine\u001b[38;5;241m.\u001b[39msay(\u001b[38;5;124m'\u001b[39m\u001b[38;5;124mMy current speaking rate is \u001b[39m\u001b[38;5;124m'\u001b[39m \u001b[38;5;241m+\u001b[39m \u001b[38;5;28mstr\u001b[39m(rate))\n\u001b[0;32m     23\u001b[0m engine\u001b[38;5;241m.\u001b[39msay(\u001b[38;5;124m'\u001b[39m\u001b[38;5;124mMy current speaking volume is \u001b[39m\u001b[38;5;124m'\u001b[39m \u001b[38;5;241m+\u001b[39m \u001b[38;5;28mstr\u001b[39m(volume))\n\u001b[1;32m---> 24\u001b[0m \u001b[43mengine\u001b[49m\u001b[38;5;241;43m.\u001b[39;49m\u001b[43mrunAndWait\u001b[49m\u001b[43m(\u001b[49m\u001b[43m)\u001b[49m\n\u001b[0;32m     25\u001b[0m engine\u001b[38;5;241m.\u001b[39mstop()\n",
      "File \u001b[1;32m~\\anaconda3\\Lib\\site-packages\\pyttsx3\\engine.py:180\u001b[0m, in \u001b[0;36mEngine.runAndWait\u001b[1;34m(self)\u001b[0m\n\u001b[0;32m    172\u001b[0m \u001b[38;5;250m\u001b[39m\u001b[38;5;124;03m\"\"\"\u001b[39;00m\n\u001b[0;32m    173\u001b[0m \u001b[38;5;124;03mRuns an event loop until all commands queued up until this method call\u001b[39;00m\n\u001b[0;32m    174\u001b[0m \u001b[38;5;124;03mcomplete. Blocks during the event loop and returns when the queue is\u001b[39;00m\n\u001b[1;32m   (...)\u001b[0m\n\u001b[0;32m    177\u001b[0m \u001b[38;5;124;03m@raise RuntimeError: When the loop is already running\u001b[39;00m\n\u001b[0;32m    178\u001b[0m \u001b[38;5;124;03m\"\"\"\u001b[39;00m\n\u001b[0;32m    179\u001b[0m \u001b[38;5;28;01mif\u001b[39;00m \u001b[38;5;28mself\u001b[39m\u001b[38;5;241m.\u001b[39m_inLoop:\n\u001b[1;32m--> 180\u001b[0m     \u001b[38;5;28;01mraise\u001b[39;00m \u001b[38;5;167;01mRuntimeError\u001b[39;00m(\u001b[38;5;124m'\u001b[39m\u001b[38;5;124mrun loop already started\u001b[39m\u001b[38;5;124m'\u001b[39m)\n\u001b[0;32m    181\u001b[0m \u001b[38;5;28mself\u001b[39m\u001b[38;5;241m.\u001b[39m_inLoop \u001b[38;5;241m=\u001b[39m \u001b[38;5;28;01mTrue\u001b[39;00m\n\u001b[0;32m    182\u001b[0m \u001b[38;5;28mself\u001b[39m\u001b[38;5;241m.\u001b[39m_driverLoop \u001b[38;5;241m=\u001b[39m \u001b[38;5;28;01mTrue\u001b[39;00m\n",
      "\u001b[1;31mRuntimeError\u001b[0m: run loop already started"
     ]
    }
   ],
   "source": [
    "import pyttsx3\n",
    "\n",
    "engine = pyttsx3.init() # object creation\n",
    "\n",
    "\"\"\" RATE\"\"\"\n",
    "\n",
    "rate = engine.getProperty('rate')   \n",
    "print (rate)                        \n",
    "engine.setProperty('rate', 150)     \n",
    "\n",
    "\"\"\"VOLUME\"\"\"\n",
    "\n",
    "volume = engine.getProperty('volume')   \n",
    "print (volume)                          \n",
    "engine.setProperty('volume',1.0)\n",
    "\n",
    "\"\"\"VOICE\"\"\"\n",
    "\n",
    "voices = engine.getProperty('voices')\n",
    "engine.setProperty('voice', voices[1].id) \n",
    "engine.say(\"Hello World!\")\n",
    "engine.say('My current speaking rate is ' + str(rate))\n",
    "engine.say('My current speaking volume is ' + str(volume))\n",
    "engine.runAndWait()\n",
    "engine.stop()"
   ]
  },
  {
   "cell_type": "code",
   "execution_count": 21,
   "id": "fb07f74e",
   "metadata": {},
   "outputs": [
    {
     "name": "stdout",
     "output_type": "stream",
     "text": [
      "Collecting goslate\n",
      "  Downloading goslate-1.5.4.tar.gz (14 kB)\n",
      "  Preparing metadata (setup.py): started\n",
      "  Preparing metadata (setup.py): finished with status 'done'\n",
      "Collecting futures (from goslate)\n",
      "  Downloading futures-3.0.5.tar.gz (25 kB)\n",
      "  Preparing metadata (setup.py): started\n",
      "  Preparing metadata (setup.py): finished with status 'error'\n"
     ]
    },
    {
     "name": "stderr",
     "output_type": "stream",
     "text": [
      "  error: subprocess-exited-with-error\n",
      "  \n",
      "  python setup.py egg_info did not run successfully.\n",
      "  exit code: 1\n",
      "  \n",
      "  [30 lines of output]\n",
      "  Traceback (most recent call last):\n",
      "    File \"<string>\", line 2, in <module>\n",
      "    File \"<pip-setuptools-caller>\", line 14, in <module>\n",
      "    File \"C:\\Users\\Komali\\anaconda3\\Lib\\site-packages\\setuptools\\__init__.py\", line 270, in <module>\n",
      "      monkey.patch_all()\n",
      "    File \"C:\\Users\\Komali\\anaconda3\\Lib\\site-packages\\setuptools\\monkey.py\", line 97, in patch_all\n",
      "      patch_for_msvc_specialized_compiler()\n",
      "    File \"C:\\Users\\Komali\\anaconda3\\Lib\\site-packages\\setuptools\\monkey.py\", line 157, in patch_for_msvc_specialized_compiler\n",
      "      patch_func(*msvc14('_get_vc_env'))\n",
      "                  ^^^^^^^^^^^^^^^^^^^^^\n",
      "    File \"C:\\Users\\Komali\\anaconda3\\Lib\\site-packages\\setuptools\\monkey.py\", line 147, in patch_params\n",
      "      mod = import_module(mod_name)\n",
      "            ^^^^^^^^^^^^^^^^^^^^^^^\n",
      "    File \"C:\\Users\\Komali\\anaconda3\\Lib\\importlib\\__init__.py\", line 126, in import_module\n",
      "      return _bootstrap._gcd_import(name[level:], package, level)\n",
      "             ^^^^^^^^^^^^^^^^^^^^^^^^^^^^^^^^^^^^^^^^^^^^^^^^^^^^\n",
      "    File \"C:\\Users\\Komali\\anaconda3\\Lib\\site-packages\\setuptools\\_distutils\\_msvccompiler.py\", line 20, in <module>\n",
      "      import unittest.mock as mock\n",
      "    File \"C:\\Users\\Komali\\anaconda3\\Lib\\unittest\\mock.py\", line 26, in <module>\n",
      "      import asyncio\n",
      "    File \"C:\\Users\\Komali\\anaconda3\\Lib\\asyncio\\__init__.py\", line 8, in <module>\n",
      "      from .base_events import *\n",
      "    File \"C:\\Users\\Komali\\anaconda3\\Lib\\asyncio\\base_events.py\", line 18, in <module>\n",
      "      import concurrent.futures\n",
      "    File \"C:\\Users\\Komali\\AppData\\Local\\Temp\\pip-install-02bgodzs\\futures_b881beb59f484220877c9bcb77bff806\\concurrent\\futures\\__init__.py\", line 8, in <module>\n",
      "      from concurrent.futures._base import (FIRST_COMPLETED,\n",
      "    File \"C:\\Users\\Komali\\AppData\\Local\\Temp\\pip-install-02bgodzs\\futures_b881beb59f484220877c9bcb77bff806\\concurrent\\futures\\_base.py\", line 357\n",
      "      raise type(self._exception), self._exception, self._traceback\n",
      "                                 ^\n",
      "  SyntaxError: invalid syntax\n",
      "  [end of output]\n",
      "  \n",
      "  note: This error originates from a subprocess, and is likely not a problem with pip.\n",
      "error: metadata-generation-failed\n",
      "\n",
      "Encountered error while generating package metadata.\n",
      "\n",
      "See above for output.\n",
      "\n",
      "note: This is an issue with the package mentioned above, not pip.\n",
      "hint: See above for details.\n"
     ]
    }
   ],
   "source": [
    "!pip install goslate"
   ]
  },
  {
   "cell_type": "code",
   "execution_count": 22,
   "id": "1efcba79",
   "metadata": {},
   "outputs": [
    {
     "name": "stdout",
     "output_type": "stream",
     "text": [
      "Collecting translate\n",
      "  Obtaining dependency information for translate from https://files.pythonhosted.org/packages/e1/54/df0d3e62636f291d716caa44c5c9590af8e6f225c59d7874051da6428c06/translate-3.6.1-py2.py3-none-any.whl.metadata\n",
      "  Downloading translate-3.6.1-py2.py3-none-any.whl.metadata (7.7 kB)\n",
      "Requirement already satisfied: click in c:\\users\\komali\\anaconda3\\lib\\site-packages (from translate) (8.0.4)\n",
      "Requirement already satisfied: lxml in c:\\users\\komali\\anaconda3\\lib\\site-packages (from translate) (4.9.2)\n",
      "Requirement already satisfied: requests in c:\\users\\komali\\anaconda3\\lib\\site-packages (from translate) (2.31.0)\n",
      "Collecting libretranslatepy==2.1.1 (from translate)\n",
      "  Obtaining dependency information for libretranslatepy==2.1.1 from https://files.pythonhosted.org/packages/24/54/044ecbf4eeba3f3feee70d496f34f397dc20714cdb80dfa8bc01e7409f88/libretranslatepy-2.1.1-py3-none-any.whl.metadata\n",
      "  Downloading libretranslatepy-2.1.1-py3-none-any.whl.metadata (233 bytes)\n",
      "Requirement already satisfied: colorama in c:\\users\\komali\\anaconda3\\lib\\site-packages (from click->translate) (0.4.6)\n",
      "Requirement already satisfied: charset-normalizer<4,>=2 in c:\\users\\komali\\anaconda3\\lib\\site-packages (from requests->translate) (2.0.4)\n",
      "Requirement already satisfied: idna<4,>=2.5 in c:\\users\\komali\\anaconda3\\lib\\site-packages (from requests->translate) (3.4)\n",
      "Requirement already satisfied: urllib3<3,>=1.21.1 in c:\\users\\komali\\anaconda3\\lib\\site-packages (from requests->translate) (1.26.16)\n",
      "Requirement already satisfied: certifi>=2017.4.17 in c:\\users\\komali\\anaconda3\\lib\\site-packages (from requests->translate) (2024.12.14)\n",
      "Downloading translate-3.6.1-py2.py3-none-any.whl (12 kB)\n",
      "Downloading libretranslatepy-2.1.1-py3-none-any.whl (3.2 kB)\n",
      "Installing collected packages: libretranslatepy, translate\n",
      "Successfully installed libretranslatepy-2.1.1 translate-3.6.1\n"
     ]
    }
   ],
   "source": [
    "!pip install translate"
   ]
  },
  {
   "cell_type": "code",
   "execution_count": 29,
   "id": "c328ce64",
   "metadata": {},
   "outputs": [],
   "source": [
    "text = \"Bonjour le monde\""
   ]
  },
  {
   "cell_type": "code",
   "execution_count": 30,
   "id": "cad07d20",
   "metadata": {},
   "outputs": [],
   "source": [
    "import goslate"
   ]
  },
  {
   "cell_type": "code",
   "execution_count": 31,
   "id": "a7505037",
   "metadata": {},
   "outputs": [
    {
     "data": {
      "text/plain": [
       "'ఎలా ఉనారు ?'"
      ]
     },
     "execution_count": 31,
     "metadata": {},
     "output_type": "execute_result"
    }
   ],
   "source": [
    "# # traslating text to telugu\n",
    "\n",
    "from translate import Translator\n",
    "\n",
    "translator= Translator(to_lang=\"te\")\n",
    "\n",
    "translation = translator.translate(\"How are you?\")\n",
    "\n",
    "translation"
   ]
  },
  {
   "cell_type": "code",
   "execution_count": 32,
   "id": "82e4201e",
   "metadata": {},
   "outputs": [
    {
     "data": {
      "text/plain": [
       "'कशी आहेस?'"
      ]
     },
     "execution_count": 32,
     "metadata": {},
     "output_type": "execute_result"
    }
   ],
   "source": [
    "# # traslating text to marathi\n",
    "\n",
    "from translate import Translator\n",
    "\n",
    "translator= Translator(to_lang=\"mr\")\n",
    "\n",
    "translation = translator.translate(\"How are you?\")\n",
    "\n",
    "translation"
   ]
  },
  {
   "cell_type": "code",
   "execution_count": 33,
   "id": "0f53f8d1",
   "metadata": {},
   "outputs": [
    {
     "data": {
      "text/plain": [
       "'كيف حالك؟'"
      ]
     },
     "execution_count": 33,
     "metadata": {},
     "output_type": "execute_result"
    }
   ],
   "source": [
    "# # traslating text to marathi\n",
    "\n",
    "from translate import Translator\n",
    "\n",
    "translator= Translator(to_lang=\"ar\")\n",
    "\n",
    "translation = translator.translate(\"How are you?\")\n",
    "\n",
    "translation"
   ]
  },
  {
   "cell_type": "code",
   "execution_count": 34,
   "id": "0ec2df3a",
   "metadata": {},
   "outputs": [
    {
     "data": {
      "text/plain": [
       "'O tsogile jang?'"
      ]
     },
     "execution_count": 34,
     "metadata": {},
     "output_type": "execute_result"
    }
   ],
   "source": [
    "# # traslating text to marathi\n",
    "\n",
    "from translate import Translator\n",
    "\n",
    "translator= Translator(to_lang=\"tn\")\n",
    "\n",
    "translation = translator.translate(\"How are you?\")\n",
    "\n",
    "translation"
   ]
  },
  {
   "cell_type": "code",
   "execution_count": 35,
   "id": "9a49cc65",
   "metadata": {},
   "outputs": [
    {
     "name": "stdout",
     "output_type": "stream",
     "text": [
      "Collecting SpeechRecognition\n",
      "  Obtaining dependency information for SpeechRecognition from https://files.pythonhosted.org/packages/09/47/5dcfcd8a2c8c2981986fc196e98fc57bc1ecb5233b2d54dac0c0d448b019/SpeechRecognition-3.14.1-py3-none-any.whl.metadata\n",
      "  Downloading SpeechRecognition-3.14.1-py3-none-any.whl.metadata (31 kB)\n",
      "Requirement already satisfied: typing-extensions in c:\\users\\komali\\anaconda3\\lib\\site-packages (from SpeechRecognition) (4.12.2)\n",
      "Downloading SpeechRecognition-3.14.1-py3-none-any.whl (32.9 MB)\n",
      "   ---------------------------------------- 0.0/32.9 MB ? eta -:--:--\n",
      "   ---------------------------------------- 0.2/32.9 MB 4.8 MB/s eta 0:00:07\n",
      "   - -------------------------------------- 1.6/32.9 MB 16.7 MB/s eta 0:00:02\n",
      "   ---- ----------------------------------- 3.9/32.9 MB 31.0 MB/s eta 0:00:01\n",
      "   ------- -------------------------------- 6.5/32.9 MB 34.4 MB/s eta 0:00:01\n",
      "   ---------- ----------------------------- 9.0/32.9 MB 44.2 MB/s eta 0:00:01\n",
      "   ---------------- ----------------------- 13.3/32.9 MB 65.6 MB/s eta 0:00:01\n",
      "   ------------------- -------------------- 15.8/32.9 MB 81.8 MB/s eta 0:00:01\n",
      "   ------------------- -------------------- 16.1/32.9 MB 54.4 MB/s eta 0:00:01\n",
      "   --------------------------- ------------ 22.7/32.9 MB 65.2 MB/s eta 0:00:01\n",
      "   -------------------------------- ------- 26.7/32.9 MB 110.0 MB/s eta 0:00:01\n",
      "   ------------------------------------- -- 31.1/32.9 MB 93.9 MB/s eta 0:00:01\n",
      "   ---------------------------------------  32.8/32.9 MB 93.9 MB/s eta 0:00:01\n",
      "   ---------------------------------------  32.8/32.9 MB 93.9 MB/s eta 0:00:01\n",
      "   ---------------------------------------  32.8/32.9 MB 93.9 MB/s eta 0:00:01\n",
      "   ---------------------------------------  32.8/32.9 MB 93.9 MB/s eta 0:00:01\n",
      "   ---------------------------------------- 32.9/32.9 MB 31.2 MB/s eta 0:00:00\n",
      "Installing collected packages: SpeechRecognition\n",
      "Successfully installed SpeechRecognition-3.14.1\n"
     ]
    }
   ],
   "source": [
    "!pip install SpeechRecognition"
   ]
  },
  {
   "cell_type": "code",
   "execution_count": 36,
   "id": "3fc25b73",
   "metadata": {},
   "outputs": [
    {
     "name": "stdout",
     "output_type": "stream",
     "text": [
      "Collecting PyAudio\n",
      "  Obtaining dependency information for PyAudio from https://files.pythonhosted.org/packages/82/d8/f043c854aad450a76e476b0cf9cda1956419e1dacf1062eb9df3c0055abe/PyAudio-0.2.14-cp311-cp311-win_amd64.whl.metadata\n",
      "  Downloading PyAudio-0.2.14-cp311-cp311-win_amd64.whl.metadata (2.7 kB)\n",
      "Downloading PyAudio-0.2.14-cp311-cp311-win_amd64.whl (164 kB)\n",
      "   ---------------------------------------- 0.0/164.1 kB ? eta -:--:--\n",
      "   ---------------------- ----------------- 92.2/164.1 kB 2.6 MB/s eta 0:00:01\n",
      "   ---------------------------------------- 164.1/164.1 kB 2.5 MB/s eta 0:00:00\n",
      "Installing collected packages: PyAudio\n",
      "Successfully installed PyAudio-0.2.14\n"
     ]
    }
   ],
   "source": [
    "!pip install PyAudio"
   ]
  },
  {
   "cell_type": "code",
   "execution_count": null,
   "id": "65c6189c",
   "metadata": {},
   "outputs": [],
   "source": []
  }
 ],
 "metadata": {
  "kernelspec": {
   "display_name": "Python 3 (ipykernel)",
   "language": "python",
   "name": "python3"
  },
  "language_info": {
   "codemirror_mode": {
    "name": "ipython",
    "version": 3
   },
   "file_extension": ".py",
   "mimetype": "text/x-python",
   "name": "python",
   "nbconvert_exporter": "python",
   "pygments_lexer": "ipython3",
   "version": "3.11.4"
  }
 },
 "nbformat": 4,
 "nbformat_minor": 5
}
